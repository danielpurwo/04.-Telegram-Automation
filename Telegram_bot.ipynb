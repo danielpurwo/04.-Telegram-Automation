{
 "cells": [
  {
   "cell_type": "code",
   "execution_count": 9,
   "metadata": {},
   "outputs": [],
   "source": [
    "from telegram import Bot\n",
    "import requests\n",
    "import asyncio\n",
    "import json"
   ]
  },
  {
   "cell_type": "code",
   "execution_count": 10,
   "metadata": {},
   "outputs": [
    {
     "name": "stdout",
     "output_type": "stream",
     "text": [
      "Message sent successfully!\n"
     ]
    },
    {
     "name": "stderr",
     "output_type": "stream",
     "text": [
      "C:\\Users\\Arseno Feri Alzahabi\\AppData\\Local\\Temp\\ipykernel_2192\\538017396.py:6: RuntimeWarning: coroutine 'Bot.send_message' was never awaited\n",
      "  bot.send_message(chat_id=CHAT_ID, text=MESSAGE)\n",
      "RuntimeWarning: Enable tracemalloc to get the object allocation traceback\n"
     ]
    }
   ],
   "source": [
    "BOT_TOKEN = '7205895984:AAHlzpLt9ZRewpHDkWAaIBrsPEeIV7pIg4k'\n",
    "CHAT_ID = 6191505392\n",
    "\n",
    "MESSAGE = 'test message'\n",
    "bot = Bot(token=BOT_TOKEN)\n",
    "bot.send_message(chat_id=CHAT_ID, text=MESSAGE)\n",
    "print(\"Message sent successfully!\")\n"
   ]
  },
  {
   "cell_type": "code",
   "execution_count": 11,
   "metadata": {},
   "outputs": [
    {
     "name": "stdout",
     "output_type": "stream",
     "text": [
      "{\n",
      "    \"ok\": true,\n",
      "    \"result\": [\n",
      "        {\n",
      "            \"update_id\": 223647607,\n",
      "            \"message\": {\n",
      "                \"message_id\": 1,\n",
      "                \"from\": {\n",
      "                    \"id\": 5933087041,\n",
      "                    \"is_bot\": false,\n",
      "                    \"first_name\": \"Arseno\",\n",
      "                    \"last_name\": \"Alzahabi\",\n",
      "                    \"language_code\": \"id\"\n",
      "                },\n",
      "                \"chat\": {\n",
      "                    \"id\": 5933087041,\n",
      "                    \"first_name\": \"Arseno\",\n",
      "                    \"last_name\": \"Alzahabi\",\n",
      "                    \"type\": \"private\"\n",
      "                },\n",
      "                \"date\": 1725536759,\n",
      "                \"contact\": {\n",
      "                    \"phone_number\": \"6281363663754\",\n",
      "                    \"first_name\": \"Arseno\",\n",
      "                    \"last_name\": \"Alzahabi\",\n",
      "                    \"user_id\": 5933087041\n",
      "                }\n",
      "            }\n",
      "        },\n",
      "        {\n",
      "            \"update_id\": 223647608,\n",
      "            \"message\": {\n",
      "                \"message_id\": 2,\n",
      "                \"from\": {\n",
      "                    \"id\": 5933087041,\n",
      "                    \"is_bot\": false,\n",
      "                    \"first_name\": \"Arseno\",\n",
      "                    \"last_name\": \"Alzahabi\",\n",
      "                    \"language_code\": \"id\"\n",
      "                },\n",
      "                \"chat\": {\n",
      "                    \"id\": 5933087041,\n",
      "                    \"first_name\": \"Arseno\",\n",
      "                    \"last_name\": \"Alzahabi\",\n",
      "                    \"type\": \"private\"\n",
      "                },\n",
      "                \"date\": 1725536765,\n",
      "                \"text\": \"Test\"\n",
      "            }\n",
      "        },\n",
      "        {\n",
      "            \"update_id\": 223647609,\n",
      "            \"message\": {\n",
      "                \"message_id\": 3,\n",
      "                \"from\": {\n",
      "                    \"id\": 5296461748,\n",
      "                    \"is_bot\": false,\n",
      "                    \"first_name\": \"mas\",\n",
      "                    \"last_name\": \"mase\",\n",
      "                    \"language_code\": \"en\"\n",
      "                },\n",
      "                \"chat\": {\n",
      "                    \"id\": 5296461748,\n",
      "                    \"first_name\": \"mas\",\n",
      "                    \"last_name\": \"mase\",\n",
      "                    \"type\": \"private\"\n",
      "                },\n",
      "                \"date\": 1725536968,\n",
      "                \"text\": \"/start\",\n",
      "                \"entities\": [\n",
      "                    {\n",
      "                        \"offset\": 0,\n",
      "                        \"length\": 6,\n",
      "                        \"type\": \"bot_command\"\n",
      "                    }\n",
      "                ]\n",
      "            }\n",
      "        },\n",
      "        {\n",
      "            \"update_id\": 223647610,\n",
      "            \"message\": {\n",
      "                \"message_id\": 4,\n",
      "                \"from\": {\n",
      "                    \"id\": 6191505392,\n",
      "                    \"is_bot\": false,\n",
      "                    \"first_name\": \"Arpita\",\n",
      "                    \"last_name\": \"Zhafarina\",\n",
      "                    \"language_code\": \"id\"\n",
      "                },\n",
      "                \"chat\": {\n",
      "                    \"id\": 6191505392,\n",
      "                    \"first_name\": \"Arpita\",\n",
      "                    \"last_name\": \"Zhafarina\",\n",
      "                    \"type\": \"private\"\n",
      "                },\n",
      "                \"date\": 1725536989,\n",
      "                \"text\": \"/start\",\n",
      "                \"entities\": [\n",
      "                    {\n",
      "                        \"offset\": 0,\n",
      "                        \"length\": 6,\n",
      "                        \"type\": \"bot_command\"\n",
      "                    }\n",
      "                ]\n",
      "            }\n",
      "        },\n",
      "        {\n",
      "            \"update_id\": 223647611,\n",
      "            \"message\": {\n",
      "                \"message_id\": 5,\n",
      "                \"from\": {\n",
      "                    \"id\": 6191505392,\n",
      "                    \"is_bot\": false,\n",
      "                    \"first_name\": \"Arpita\",\n",
      "                    \"last_name\": \"Zhafarina\",\n",
      "                    \"language_code\": \"id\"\n",
      "                },\n",
      "                \"chat\": {\n",
      "                    \"id\": 6191505392,\n",
      "                    \"first_name\": \"Arpita\",\n",
      "                    \"last_name\": \"Zhafarina\",\n",
      "                    \"type\": \"private\"\n",
      "                },\n",
      "                \"date\": 1725536993,\n",
      "                \"text\": \"T\"\n",
      "            }\n",
      "        },\n",
      "        {\n",
      "            \"update_id\": 223647612,\n",
      "            \"message\": {\n",
      "                \"message_id\": 167,\n",
      "                \"from\": {\n",
      "                    \"id\": 5296461748,\n",
      "                    \"is_bot\": false,\n",
      "                    \"first_name\": \"mas\",\n",
      "                    \"last_name\": \"mase\",\n",
      "                    \"language_code\": \"en\"\n",
      "                },\n",
      "                \"chat\": {\n",
      "                    \"id\": 5296461748,\n",
      "                    \"first_name\": \"mas\",\n",
      "                    \"last_name\": \"mase\",\n",
      "                    \"type\": \"private\"\n",
      "                },\n",
      "                \"date\": 1725538069,\n",
      "                \"text\": \"SENO TAI BABI\"\n",
      "            }\n",
      "        }\n",
      "    ]\n",
      "}\n"
     ]
    }
   ],
   "source": [
    "response = requests.get(f'https://api.telegram.org/bot{BOT_TOKEN}/getUpdates')\n",
    "updates = response.json()\n",
    "print(json.dumps(updates, indent=4))\n"
   ]
  },
  {
   "cell_type": "code",
   "execution_count": 12,
   "metadata": {},
   "outputs": [
    {
     "name": "stdout",
     "output_type": "stream",
     "text": [
      "Message sent successfully!\n"
     ]
    },
    {
     "name": "stderr",
     "output_type": "stream",
     "text": [
      "C:\\Users\\Arseno Feri Alzahabi\\AppData\\Local\\Temp\\ipykernel_2192\\2825211642.py:11: RuntimeWarning: coroutine 'Bot.send_message' was never awaited\n",
      "  bot.send_message(chat_id=CHAT_ID, text=MESSAGE)\n",
      "RuntimeWarning: Enable tracemalloc to get the object allocation traceback\n"
     ]
    }
   ],
   "source": [
    "# Replace 'CHAT_ID' with the chat ID where you want to send the message\n",
    "\n",
    "\n",
    "# The message you want to send\n",
    "MESSAGE = 'Hello from your Telegram bot!'\n",
    "\n",
    "# Initialize the bot\n",
    "bot = Bot(token=BOT_TOKEN)\n",
    "\n",
    "# Send the message (synchronous version)\n",
    "bot.send_message(chat_id=CHAT_ID, text=MESSAGE)\n",
    "\n",
    "print(\"Message sent successfully!\")\n"
   ]
  },
  {
   "cell_type": "code",
   "execution_count": null,
   "metadata": {},
   "outputs": [],
   "source": []
  }
 ],
 "metadata": {
  "kernelspec": {
   "display_name": "analyset",
   "language": "python",
   "name": "python3"
  },
  "language_info": {
   "codemirror_mode": {
    "name": "ipython",
    "version": 3
   },
   "file_extension": ".py",
   "mimetype": "text/x-python",
   "name": "python",
   "nbconvert_exporter": "python",
   "pygments_lexer": "ipython3",
   "version": "3.11.5"
  }
 },
 "nbformat": 4,
 "nbformat_minor": 2
}
